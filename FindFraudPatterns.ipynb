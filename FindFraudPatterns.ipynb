{
 "cells": [
  {
   "cell_type": "code",
   "execution_count": 45,
   "id": "1c88c022-94c7-410b-ac06-cedee9eda86a",
   "metadata": {},
   "outputs": [],
   "source": [
    "import pandas as pd\n",
    "import os"
   ]
  },
  {
   "cell_type": "code",
   "execution_count": 46,
   "id": "89b5fa3c-27e7-457b-b8ee-170da348a8f7",
   "metadata": {},
   "outputs": [],
   "source": [
    "# Load the CSV file\n",
    "df = pd.read_csv(\"onlinefraud.csv\")"
   ]
  },
  {
   "cell_type": "code",
   "execution_count": 47,
   "id": "bd87a359-f7cf-40d6-938c-d2600e7db952",
   "metadata": {},
   "outputs": [
    {
     "name": "stdout",
     "output_type": "stream",
     "text": [
      "         step      type      amount     nameOrig  oldbalanceOrg  \\\n",
      "0           1   PAYMENT     9839.64  C1231006815      170136.00   \n",
      "1           1   PAYMENT     1864.28  C1666544295       21249.00   \n",
      "2           1  TRANSFER      181.00  C1305486145         181.00   \n",
      "3           1  CASH_OUT      181.00   C840083671         181.00   \n",
      "4           1   PAYMENT    11668.14  C2048537720       41554.00   \n",
      "...       ...       ...         ...          ...            ...   \n",
      "6362615   743  CASH_OUT   339682.13   C786484425      339682.13   \n",
      "6362616   743  TRANSFER  6311409.28  C1529008245     6311409.28   \n",
      "6362617   743  CASH_OUT  6311409.28  C1162922333     6311409.28   \n",
      "6362618   743  TRANSFER   850002.52  C1685995037      850002.52   \n",
      "6362619   743  CASH_OUT   850002.52  C1280323807      850002.52   \n",
      "\n",
      "         newbalanceOrig     nameDest  oldbalanceDest  newbalanceDest  isFraud  \\\n",
      "0             160296.36  M1979787155            0.00            0.00        0   \n",
      "1              19384.72  M2044282225            0.00            0.00        0   \n",
      "2                  0.00   C553264065            0.00            0.00        1   \n",
      "3                  0.00    C38997010        21182.00            0.00        1   \n",
      "4              29885.86  M1230701703            0.00            0.00        0   \n",
      "...                 ...          ...             ...             ...      ...   \n",
      "6362615            0.00   C776919290            0.00       339682.13        1   \n",
      "6362616            0.00  C1881841831            0.00            0.00        1   \n",
      "6362617            0.00  C1365125890        68488.84      6379898.11        1   \n",
      "6362618            0.00  C2080388513            0.00            0.00        1   \n",
      "6362619            0.00   C873221189      6510099.11      7360101.63        1   \n",
      "\n",
      "         isFlaggedFraud  \n",
      "0                     0  \n",
      "1                     0  \n",
      "2                     0  \n",
      "3                     0  \n",
      "4                     0  \n",
      "...                 ...  \n",
      "6362615               0  \n",
      "6362616               0  \n",
      "6362617               0  \n",
      "6362618               0  \n",
      "6362619               0  \n",
      "\n",
      "[6362620 rows x 11 columns]\n"
     ]
    }
   ],
   "source": [
    "print(df)"
   ]
  },
  {
   "cell_type": "code",
   "execution_count": 19,
   "id": "8caf28a3-fd87-41af-b62e-44782bdb2b75",
   "metadata": {},
   "outputs": [
    {
     "name": "stdout",
     "output_type": "stream",
     "text": [
      "step                        1\n",
      "type                  PAYMENT\n",
      "amount                4024.36\n",
      "nameOrig          C1265012928\n",
      "oldbalanceOrg          2671.0\n",
      "newbalanceOrig            0.0\n",
      "nameDest          M1176932104\n",
      "oldbalanceDest            0.0\n",
      "newbalanceDest            0.0\n",
      "isFraud                     0\n",
      "isFlaggedFraud              0\n",
      "Name: 8, dtype: object\n"
     ]
    }
   ],
   "source": [
    "print(df.iloc[8])"
   ]
  },
  {
   "cell_type": "code",
   "execution_count": 48,
   "id": "de278b6b-1db6-4436-9193-b642c960571e",
   "metadata": {},
   "outputs": [
    {
     "name": "stdout",
     "output_type": "stream",
     "text": [
      "step                int64\n",
      "type               object\n",
      "amount            float64\n",
      "nameOrig           object\n",
      "oldbalanceOrg     float64\n",
      "newbalanceOrig    float64\n",
      "nameDest           object\n",
      "oldbalanceDest    float64\n",
      "newbalanceDest    float64\n",
      "isFraud             int64\n",
      "isFlaggedFraud      int64\n",
      "dtype: object\n"
     ]
    }
   ],
   "source": [
    "print(df.dtypes)"
   ]
  },
  {
   "cell_type": "code",
   "execution_count": 21,
   "id": "3894dead-a24d-41e9-98e8-da9a7949c5fd",
   "metadata": {},
   "outputs": [
    {
     "data": {
      "text/html": [
       "<div>\n",
       "<style scoped>\n",
       "    .dataframe tbody tr th:only-of-type {\n",
       "        vertical-align: middle;\n",
       "    }\n",
       "\n",
       "    .dataframe tbody tr th {\n",
       "        vertical-align: top;\n",
       "    }\n",
       "\n",
       "    .dataframe thead th {\n",
       "        text-align: right;\n",
       "    }\n",
       "</style>\n",
       "<table border=\"1\" class=\"dataframe\">\n",
       "  <thead>\n",
       "    <tr style=\"text-align: right;\">\n",
       "      <th></th>\n",
       "      <th>step</th>\n",
       "      <th>amount</th>\n",
       "      <th>oldbalanceOrg</th>\n",
       "      <th>newbalanceOrig</th>\n",
       "      <th>oldbalanceDest</th>\n",
       "      <th>newbalanceDest</th>\n",
       "      <th>isFraud</th>\n",
       "      <th>isFlaggedFraud</th>\n",
       "    </tr>\n",
       "  </thead>\n",
       "  <tbody>\n",
       "    <tr>\n",
       "      <th>count</th>\n",
       "      <td>6.362620e+06</td>\n",
       "      <td>6.362620e+06</td>\n",
       "      <td>6.362620e+06</td>\n",
       "      <td>6.362620e+06</td>\n",
       "      <td>6.362620e+06</td>\n",
       "      <td>6.362620e+06</td>\n",
       "      <td>6.362620e+06</td>\n",
       "      <td>6.362620e+06</td>\n",
       "    </tr>\n",
       "    <tr>\n",
       "      <th>mean</th>\n",
       "      <td>2.433972e+02</td>\n",
       "      <td>1.798619e+05</td>\n",
       "      <td>8.338831e+05</td>\n",
       "      <td>8.551137e+05</td>\n",
       "      <td>1.100702e+06</td>\n",
       "      <td>1.224996e+06</td>\n",
       "      <td>1.290820e-03</td>\n",
       "      <td>2.514687e-06</td>\n",
       "    </tr>\n",
       "    <tr>\n",
       "      <th>std</th>\n",
       "      <td>1.423320e+02</td>\n",
       "      <td>6.038582e+05</td>\n",
       "      <td>2.888243e+06</td>\n",
       "      <td>2.924049e+06</td>\n",
       "      <td>3.399180e+06</td>\n",
       "      <td>3.674129e+06</td>\n",
       "      <td>3.590480e-02</td>\n",
       "      <td>1.585775e-03</td>\n",
       "    </tr>\n",
       "    <tr>\n",
       "      <th>min</th>\n",
       "      <td>1.000000e+00</td>\n",
       "      <td>0.000000e+00</td>\n",
       "      <td>0.000000e+00</td>\n",
       "      <td>0.000000e+00</td>\n",
       "      <td>0.000000e+00</td>\n",
       "      <td>0.000000e+00</td>\n",
       "      <td>0.000000e+00</td>\n",
       "      <td>0.000000e+00</td>\n",
       "    </tr>\n",
       "    <tr>\n",
       "      <th>25%</th>\n",
       "      <td>1.560000e+02</td>\n",
       "      <td>1.338957e+04</td>\n",
       "      <td>0.000000e+00</td>\n",
       "      <td>0.000000e+00</td>\n",
       "      <td>0.000000e+00</td>\n",
       "      <td>0.000000e+00</td>\n",
       "      <td>0.000000e+00</td>\n",
       "      <td>0.000000e+00</td>\n",
       "    </tr>\n",
       "    <tr>\n",
       "      <th>50%</th>\n",
       "      <td>2.390000e+02</td>\n",
       "      <td>7.487194e+04</td>\n",
       "      <td>1.420800e+04</td>\n",
       "      <td>0.000000e+00</td>\n",
       "      <td>1.327057e+05</td>\n",
       "      <td>2.146614e+05</td>\n",
       "      <td>0.000000e+00</td>\n",
       "      <td>0.000000e+00</td>\n",
       "    </tr>\n",
       "    <tr>\n",
       "      <th>75%</th>\n",
       "      <td>3.350000e+02</td>\n",
       "      <td>2.087215e+05</td>\n",
       "      <td>1.073152e+05</td>\n",
       "      <td>1.442584e+05</td>\n",
       "      <td>9.430367e+05</td>\n",
       "      <td>1.111909e+06</td>\n",
       "      <td>0.000000e+00</td>\n",
       "      <td>0.000000e+00</td>\n",
       "    </tr>\n",
       "    <tr>\n",
       "      <th>max</th>\n",
       "      <td>7.430000e+02</td>\n",
       "      <td>9.244552e+07</td>\n",
       "      <td>5.958504e+07</td>\n",
       "      <td>4.958504e+07</td>\n",
       "      <td>3.560159e+08</td>\n",
       "      <td>3.561793e+08</td>\n",
       "      <td>1.000000e+00</td>\n",
       "      <td>1.000000e+00</td>\n",
       "    </tr>\n",
       "  </tbody>\n",
       "</table>\n",
       "</div>"
      ],
      "text/plain": [
       "               step        amount  oldbalanceOrg  newbalanceOrig  \\\n",
       "count  6.362620e+06  6.362620e+06   6.362620e+06    6.362620e+06   \n",
       "mean   2.433972e+02  1.798619e+05   8.338831e+05    8.551137e+05   \n",
       "std    1.423320e+02  6.038582e+05   2.888243e+06    2.924049e+06   \n",
       "min    1.000000e+00  0.000000e+00   0.000000e+00    0.000000e+00   \n",
       "25%    1.560000e+02  1.338957e+04   0.000000e+00    0.000000e+00   \n",
       "50%    2.390000e+02  7.487194e+04   1.420800e+04    0.000000e+00   \n",
       "75%    3.350000e+02  2.087215e+05   1.073152e+05    1.442584e+05   \n",
       "max    7.430000e+02  9.244552e+07   5.958504e+07    4.958504e+07   \n",
       "\n",
       "       oldbalanceDest  newbalanceDest       isFraud  isFlaggedFraud  \n",
       "count    6.362620e+06    6.362620e+06  6.362620e+06    6.362620e+06  \n",
       "mean     1.100702e+06    1.224996e+06  1.290820e-03    2.514687e-06  \n",
       "std      3.399180e+06    3.674129e+06  3.590480e-02    1.585775e-03  \n",
       "min      0.000000e+00    0.000000e+00  0.000000e+00    0.000000e+00  \n",
       "25%      0.000000e+00    0.000000e+00  0.000000e+00    0.000000e+00  \n",
       "50%      1.327057e+05    2.146614e+05  0.000000e+00    0.000000e+00  \n",
       "75%      9.430367e+05    1.111909e+06  0.000000e+00    0.000000e+00  \n",
       "max      3.560159e+08    3.561793e+08  1.000000e+00    1.000000e+00  "
      ]
     },
     "execution_count": 21,
     "metadata": {},
     "output_type": "execute_result"
    }
   ],
   "source": [
    "df.describe()"
   ]
  },
  {
   "cell_type": "code",
   "execution_count": 22,
   "id": "0ad49627-634b-45f1-98de-8681b58dd93d",
   "metadata": {},
   "outputs": [
    {
     "name": "stdout",
     "output_type": "stream",
     "text": [
      "         step      amount  oldbalanceOrg  newbalanceOrig  oldbalanceDest  \\\n",
      "0           1     9839.64      170136.00       160296.36            0.00   \n",
      "1           1     1864.28       21249.00        19384.72            0.00   \n",
      "2           1      181.00         181.00            0.00            0.00   \n",
      "3           1      181.00         181.00            0.00        21182.00   \n",
      "4           1    11668.14       41554.00        29885.86            0.00   \n",
      "...       ...         ...            ...             ...             ...   \n",
      "6362615   743   339682.13      339682.13            0.00            0.00   \n",
      "6362616   743  6311409.28     6311409.28            0.00            0.00   \n",
      "6362617   743  6311409.28     6311409.28            0.00        68488.84   \n",
      "6362618   743   850002.52      850002.52            0.00            0.00   \n",
      "6362619   743   850002.52      850002.52            0.00      6510099.11   \n",
      "\n",
      "         newbalanceDest  isFraud  isFlaggedFraud  \n",
      "0                  0.00        0               0  \n",
      "1                  0.00        0               0  \n",
      "2                  0.00        1               0  \n",
      "3                  0.00        1               0  \n",
      "4                  0.00        0               0  \n",
      "...                 ...      ...             ...  \n",
      "6362615       339682.13        1               0  \n",
      "6362616            0.00        1               0  \n",
      "6362617      6379898.11        1               0  \n",
      "6362618            0.00        1               0  \n",
      "6362619      7360101.63        1               0  \n",
      "\n",
      "[6362620 rows x 8 columns]\n"
     ]
    }
   ],
   "source": [
    "numeric_df = df.select_dtypes(include='number')\n",
    "print(numeric_df)"
   ]
  },
  {
   "cell_type": "code",
   "execution_count": 23,
   "id": "cfda3c6e-b35c-47cd-ab2c-afd426467cf8",
   "metadata": {},
   "outputs": [
    {
     "name": "stdout",
     "output_type": "stream",
     "text": [
      "                    step    amount  oldbalanceOrg  newbalanceOrig  \\\n",
      "step            1.000000  0.022373      -0.010058       -0.010299   \n",
      "amount          0.022373  1.000000      -0.002762       -0.007861   \n",
      "oldbalanceOrg  -0.010058 -0.002762       1.000000        0.998803   \n",
      "newbalanceOrig -0.010299 -0.007861       0.998803        1.000000   \n",
      "oldbalanceDest  0.027665  0.294137       0.066243        0.067812   \n",
      "newbalanceDest  0.025888  0.459304       0.042029        0.041837   \n",
      "isFraud         0.031578  0.076688       0.010154       -0.008148   \n",
      "isFlaggedFraud  0.003277  0.012295       0.003835        0.003776   \n",
      "\n",
      "                oldbalanceDest  newbalanceDest   isFraud  isFlaggedFraud  \n",
      "step                  0.027665        0.025888  0.031578        0.003277  \n",
      "amount                0.294137        0.459304  0.076688        0.012295  \n",
      "oldbalanceOrg         0.066243        0.042029  0.010154        0.003835  \n",
      "newbalanceOrig        0.067812        0.041837 -0.008148        0.003776  \n",
      "oldbalanceDest        1.000000        0.976569 -0.005885       -0.000513  \n",
      "newbalanceDest        0.976569        1.000000  0.000535       -0.000529  \n",
      "isFraud              -0.005885        0.000535  1.000000        0.044109  \n",
      "isFlaggedFraud       -0.000513       -0.000529  0.044109        1.000000  \n"
     ]
    }
   ],
   "source": [
    "print(numeric_df.corr())"
   ]
  },
  {
   "cell_type": "code",
   "execution_count": 24,
   "id": "e22e5876-ab7f-4491-8775-5574e7f79663",
   "metadata": {},
   "outputs": [
    {
     "name": "stdout",
     "output_type": "stream",
     "text": [
      "             type     nameOrig     nameDest\n",
      "0         PAYMENT  C1231006815  M1979787155\n",
      "1         PAYMENT  C1666544295  M2044282225\n",
      "2        TRANSFER  C1305486145   C553264065\n",
      "3        CASH_OUT   C840083671    C38997010\n",
      "4         PAYMENT  C2048537720  M1230701703\n",
      "...           ...          ...          ...\n",
      "6362615  CASH_OUT   C786484425   C776919290\n",
      "6362616  TRANSFER  C1529008245  C1881841831\n",
      "6362617  CASH_OUT  C1162922333  C1365125890\n",
      "6362618  TRANSFER  C1685995037  C2080388513\n",
      "6362619  CASH_OUT  C1280323807   C873221189\n",
      "\n",
      "[6362620 rows x 3 columns]\n"
     ]
    }
   ],
   "source": [
    "non_numeric_df = df.select_dtypes(exclude='number')\n",
    "print(non_numeric_df)"
   ]
  },
  {
   "cell_type": "code",
   "execution_count": 25,
   "id": "03c13236-ed59-4996-8bc6-37a1b470e5a8",
   "metadata": {},
   "outputs": [
    {
     "name": "stdout",
     "output_type": "stream",
     "text": [
      "         step  type      amount  nameOrig  oldbalanceOrg  newbalanceOrig  \\\n",
      "0           1     3     9839.64    757869      170136.00       160296.36   \n",
      "1           1     3     1864.28   2188998       21249.00        19384.72   \n",
      "2           1     4      181.00   1002156         181.00            0.00   \n",
      "3           1     1      181.00   5828262         181.00            0.00   \n",
      "4           1     3    11668.14   3445981       41554.00        29885.86   \n",
      "...       ...   ...         ...       ...            ...             ...   \n",
      "6362615   743     1   339682.13   5651847      339682.13            0.00   \n",
      "6362616   743     4  6311409.28   1737278     6311409.28            0.00   \n",
      "6362617   743     1  6311409.28    533958     6311409.28            0.00   \n",
      "6362618   743     4   850002.52   2252932      850002.52            0.00   \n",
      "6362619   743     1   850002.52    919229      850002.52            0.00   \n",
      "\n",
      "         nameDest  oldbalanceDest  newbalanceDest  isFraud  isFlaggedFraud  \n",
      "0         1662094            0.00            0.00        0               0  \n",
      "1         1733924            0.00            0.00        0               0  \n",
      "2          439685            0.00            0.00        1               0  \n",
      "3          391696        21182.00            0.00        1               0  \n",
      "4          828919            0.00            0.00        0               0  \n",
      "...           ...             ...             ...      ...             ...  \n",
      "6362615    505863            0.00       339682.13        1               0  \n",
      "6362616    260949            0.00            0.00        1               0  \n",
      "6362617    108224        68488.84      6379898.11        1               0  \n",
      "6362618    319713            0.00            0.00        1               0  \n",
      "6362619    534595      6510099.11      7360101.63        1               0  \n",
      "\n",
      "[6362620 rows x 11 columns]\n"
     ]
    }
   ],
   "source": [
    "import sklearn\n",
    "from sklearn.preprocessing import LabelEncoder\n",
    "\n",
    "# Encode all non-numeric columns\n",
    "for col in df.select_dtypes(exclude='number').columns:\n",
    "\n",
    "    le = LabelEncoder()\n",
    "    df[col] = le.fit_transform(df[col])\n",
    "\n",
    "print(df)"
   ]
  },
  {
   "cell_type": "code",
   "execution_count": 26,
   "id": "98109ff5-5a1d-4fcd-b842-5ff05f2c64a7",
   "metadata": {},
   "outputs": [
    {
     "name": "stdout",
     "output_type": "stream",
     "text": [
      "                    step      type    amount  nameOrig  oldbalanceOrg  \\\n",
      "step            1.000000  0.006635  0.022373 -0.000146      -0.010058   \n",
      "type            0.006635  1.000000  0.088419  0.000213      -0.339760   \n",
      "amount          0.022373  0.088419  1.000000  0.000124      -0.002762   \n",
      "nameOrig       -0.000146  0.000213  0.000124  1.000000      -0.000648   \n",
      "oldbalanceOrg  -0.010058 -0.339760 -0.002762 -0.000648       1.000000   \n",
      "newbalanceOrig -0.010299 -0.352758 -0.007861 -0.000675       0.998803   \n",
      "nameDest        0.003767  0.584275 -0.169150 -0.000256      -0.162688   \n",
      "oldbalanceDest  0.027665 -0.104679  0.294137  0.000245       0.066243   \n",
      "newbalanceDest  0.025888 -0.059364  0.459304  0.000255       0.042029   \n",
      "isFraud         0.031578  0.020833  0.076688 -0.000464       0.010154   \n",
      "isFlaggedFraud  0.003277  0.002685  0.012295  0.000667       0.003835   \n",
      "\n",
      "                newbalanceOrig  nameDest  oldbalanceDest  newbalanceDest  \\\n",
      "step                 -0.010299  0.003767        0.027665        0.025888   \n",
      "type                 -0.352758  0.584275       -0.104679       -0.059364   \n",
      "amount               -0.007861 -0.169150        0.294137        0.459304   \n",
      "nameOrig             -0.000675 -0.000256        0.000245        0.000255   \n",
      "oldbalanceOrg         0.998803 -0.162688        0.066243        0.042029   \n",
      "newbalanceOrig        1.000000 -0.166489        0.067812        0.041837   \n",
      "nameDest             -0.166489  1.000000       -0.198119       -0.203992   \n",
      "oldbalanceDest        0.067812 -0.198119        1.000000        0.976569   \n",
      "newbalanceDest        0.041837 -0.203992        0.976569        1.000000   \n",
      "isFraud              -0.008148 -0.021963       -0.005885        0.000535   \n",
      "isFlaggedFraud        0.003776 -0.001122       -0.000513       -0.000529   \n",
      "\n",
      "                 isFraud  isFlaggedFraud  \n",
      "step            0.031578        0.003277  \n",
      "type            0.020833        0.002685  \n",
      "amount          0.076688        0.012295  \n",
      "nameOrig       -0.000464        0.000667  \n",
      "oldbalanceOrg   0.010154        0.003835  \n",
      "newbalanceOrig -0.008148        0.003776  \n",
      "nameDest       -0.021963       -0.001122  \n",
      "oldbalanceDest -0.005885       -0.000513  \n",
      "newbalanceDest  0.000535       -0.000529  \n",
      "isFraud         1.000000        0.044109  \n",
      "isFlaggedFraud  0.044109        1.000000  \n"
     ]
    }
   ],
   "source": [
    "print(df.corr())"
   ]
  },
  {
   "cell_type": "code",
   "execution_count": 31,
   "id": "18f30c16-5703-4717-8fd6-bd6d9124fb7e",
   "metadata": {},
   "outputs": [
    {
     "name": "stdout",
     "output_type": "stream",
     "text": [
      "         step      type      amount     nameOrig  oldbalanceOrg  \\\n",
      "0           1   PAYMENT     9839.64  C1231006815      170136.00   \n",
      "1           1   PAYMENT     1864.28  C1666544295       21249.00   \n",
      "2           1  TRANSFER      181.00  C1305486145         181.00   \n",
      "3           1  CASH_OUT      181.00   C840083671         181.00   \n",
      "4           1   PAYMENT    11668.14  C2048537720       41554.00   \n",
      "...       ...       ...         ...          ...            ...   \n",
      "6362615   743  CASH_OUT   339682.13   C786484425      339682.13   \n",
      "6362616   743  TRANSFER  6311409.28  C1529008245     6311409.28   \n",
      "6362617   743  CASH_OUT  6311409.28  C1162922333     6311409.28   \n",
      "6362618   743  TRANSFER   850002.52  C1685995037      850002.52   \n",
      "6362619   743  CASH_OUT   850002.52  C1280323807      850002.52   \n",
      "\n",
      "         newbalanceOrig     nameDest  oldbalanceDest  newbalanceDest  isFraud  \\\n",
      "0             160296.36  M1979787155            0.00            0.00        0   \n",
      "1              19384.72  M2044282225            0.00            0.00        0   \n",
      "2                  0.00   C553264065            0.00            0.00        1   \n",
      "3                  0.00    C38997010        21182.00            0.00        1   \n",
      "4              29885.86  M1230701703            0.00            0.00        0   \n",
      "...                 ...          ...             ...             ...      ...   \n",
      "6362615            0.00   C776919290            0.00       339682.13        1   \n",
      "6362616            0.00  C1881841831            0.00            0.00        1   \n",
      "6362617            0.00  C1365125890        68488.84      6379898.11        1   \n",
      "6362618            0.00  C2080388513            0.00            0.00        1   \n",
      "6362619            0.00   C873221189      6510099.11      7360101.63        1   \n",
      "\n",
      "         isFlaggedFraud  \n",
      "0                     0  \n",
      "1                     0  \n",
      "2                     0  \n",
      "3                     0  \n",
      "4                     0  \n",
      "...                 ...  \n",
      "6362615               0  \n",
      "6362616               0  \n",
      "6362617               0  \n",
      "6362618               0  \n",
      "6362619               0  \n",
      "\n",
      "[6362620 rows x 11 columns]\n"
     ]
    }
   ],
   "source": [
    "# Load the CSV file again\n",
    "df = pd.read_csv(\"onlinefraud.csv\")\n",
    "print(df)"
   ]
  },
  {
   "cell_type": "code",
   "execution_count": 32,
   "id": "891f302f-0887-4598-b850-666dbadc6bcc",
   "metadata": {},
   "outputs": [
    {
     "name": "stdout",
     "output_type": "stream",
     "text": [
      "            nameDest  isFlaggedFraud       amount\n",
      "2736446   C639921569               1   4953893.08\n",
      "3247297  C1147517658               1   1343002.08\n",
      "3760288  C1100697970               1    536624.41\n",
      "5563713   C891140444               1   4892193.09\n",
      "5996407  C1392803603               1  10000000.00\n",
      "5996409  C1109166882               1   9585040.37\n",
      "6168499   C484597480               1   3576297.10\n",
      "6205439  C1770418982               1    353874.22\n",
      "6266413   C661958277               1   2542664.27\n",
      "6281482  C1806199534               1  10000000.00\n",
      "6281484  C1909486199               1    399045.08\n",
      "6296014  C1082139865               1   3441041.46\n",
      "6351225  C1308068787               1   3171085.59\n",
      "6362460  C1395467927               1  10000000.00\n",
      "6362462  C1861208726               1   7316255.05\n",
      "6362584  C1366804249               1   5674547.89\n"
     ]
    }
   ],
   "source": [
    "# Korrekte Syntax\n",
    "FindFraudStructures = df.loc[df[\"isFlaggedFraud\"] == 1, [\"nameDest\", \"isFlaggedFraud\", \"amount\"]].copy()\n",
    "print(FindFraudStructures)"
   ]
  },
  {
   "cell_type": "code",
   "execution_count": 33,
   "id": "502a7588-f421-4084-ab5e-f40ff405ffaa",
   "metadata": {},
   "outputs": [
    {
     "data": {
      "text/plain": [
       "nameDest          16\n",
       "isFlaggedFraud    16\n",
       "amount            16\n",
       "dtype: int64"
      ]
     },
     "execution_count": 33,
     "metadata": {},
     "output_type": "execute_result"
    }
   ],
   "source": [
    "FindFraudStructures.count()"
   ]
  },
  {
   "cell_type": "code",
   "execution_count": 35,
   "id": "fa84b741-ffe0-487a-ab2d-5d01ab8680e0",
   "metadata": {},
   "outputs": [],
   "source": [
    "FindFraudStructures[\"ClassifyFraud\"] = pd.cut(\n",
    "    df[\"amount\"],\n",
    "    bins=[0, 100.0, 100000.0, 100000000.0],         # Grenzen der Intervalle\n",
    "    labels=[\"no fraud\", \"fraud\", \"extreme fraud\"]  # Namen für die Gruppen\n",
    ")"
   ]
  },
  {
   "cell_type": "code",
   "execution_count": 36,
   "id": "d46d54aa-2366-4f43-9ca0-ffcde7b72cda",
   "metadata": {},
   "outputs": [
    {
     "name": "stdout",
     "output_type": "stream",
     "text": [
      "            nameDest  isFlaggedFraud       amount  ClassifyFraud\n",
      "2736446   C639921569               1   4953893.08  extreme fraud\n",
      "3247297  C1147517658               1   1343002.08  extreme fraud\n",
      "3760288  C1100697970               1    536624.41  extreme fraud\n",
      "5563713   C891140444               1   4892193.09  extreme fraud\n",
      "5996407  C1392803603               1  10000000.00  extreme fraud\n",
      "5996409  C1109166882               1   9585040.37  extreme fraud\n",
      "6168499   C484597480               1   3576297.10  extreme fraud\n",
      "6205439  C1770418982               1    353874.22  extreme fraud\n",
      "6266413   C661958277               1   2542664.27  extreme fraud\n",
      "6281482  C1806199534               1  10000000.00  extreme fraud\n",
      "6281484  C1909486199               1    399045.08  extreme fraud\n",
      "6296014  C1082139865               1   3441041.46  extreme fraud\n",
      "6351225  C1308068787               1   3171085.59  extreme fraud\n",
      "6362460  C1395467927               1  10000000.00  extreme fraud\n",
      "6362462  C1861208726               1   7316255.05  extreme fraud\n",
      "6362584  C1366804249               1   5674547.89  extreme fraud\n"
     ]
    }
   ],
   "source": [
    "print(FindFraudStructures)"
   ]
  },
  {
   "cell_type": "code",
   "execution_count": 37,
   "id": "95c0cbfd-3425-4457-a58e-518553a7834d",
   "metadata": {},
   "outputs": [],
   "source": [
    "FindFraudStructures.to_csv(\"FraudPatterns.txt\", sep=\"\\t\", index=False, encoding=\"utf-8\")"
   ]
  },
  {
   "cell_type": "code",
   "execution_count": 38,
   "id": "383813d8-bc99-40a9-b7fb-03589e0e1bc1",
   "metadata": {},
   "outputs": [
    {
     "name": "stdout",
     "output_type": "stream",
     "text": [
      "Synthetic dataset saved as 'Synthetic_Transactions.csv'\n"
     ]
    }
   ],
   "source": [
    "import pandas as pd\n",
    "import numpy as np\n",
    "\n",
    "# Reproduzierbarkeit\n",
    "np.random.seed(42)\n",
    "\n",
    "# Anzahl der Samples\n",
    "n_samples = 1000\n",
    "\n",
    "# Zeitliche Dimension\n",
    "steps = np.random.randint(1, 744, size=n_samples)  # ähnlich wie 1–743 im Original\n",
    "\n",
    "# Transaktionstypen\n",
    "types = np.random.choice(['PAYMENT', 'TRANSFER', 'CASH_OUT', 'DEBIT', 'CASH_IN'],\n",
    "                         size=n_samples)\n",
    "\n",
    "# Beträge (positiv, lognormal verteilt -> viele kleine, wenige große)\n",
    "amounts = np.random.lognormal(mean=10, sigma=1, size=n_samples) / 100\n",
    "\n",
    "# Sender-IDs (z. B. Kundenkonten)\n",
    "nameOrig = [\"C\" + str(np.random.randint(100000000, 999999999)) for _ in range(n_samples)]\n",
    "\n",
    "# Ursprüngliches Guthaben (immer >= amount)\n",
    "oldbalanceOrg = amounts + np.random.uniform(0, 1e6, size=n_samples)\n",
    "\n",
    "# Neues Guthaben\n",
    "newbalanceOrg = oldbalanceOrg - amounts\n",
    "newbalanceOrg = np.clip(newbalanceOrg, 0, None)  # keine negativen Salden\n",
    "\n",
    "# Empfänger-IDs (C... für Kunden, M... für Händler)\n",
    "nameDest = []\n",
    "for _ in range(n_samples):\n",
    "    if np.random.rand() < 0.7:  # 70% gehen an Händler\n",
    "        nameDest.append(\"M\" + str(np.random.randint(100000000, 999999999)))\n",
    "    else:\n",
    "        nameDest.append(\"C\" + str(np.random.randint(100000000, 999999999)))\n",
    "\n",
    "# Ziel-Salden (vereinfachtes Modell)\n",
    "oldbalanceDest = np.random.uniform(0, 1e6, size=n_samples)\n",
    "newbalanceDest = oldbalanceDest + amounts\n",
    "\n",
    "# Fraud-Indikator (z. B. 1% Fraud)\n",
    "isFraud = np.random.choice([0, 1], size=n_samples, p=[0.95, 0.05])\n",
    "\n",
    "# Flagged Fraud (z. B. wenn Betrag > 200.000)\n",
    "isFlaggedFraud = (amounts > 200).astype(int)\n",
    "\n",
    "# DataFrame bauen\n",
    "df = pd.DataFrame({\n",
    "    'step': steps,\n",
    "    'type': types,\n",
    "    'amount': np.round(amounts, 2),\n",
    "    'nameOrig': nameOrig,\n",
    "    'oldbalanceOrg': np.round(oldbalanceOrg, 2),\n",
    "    'newbalanceOrig': np.round(newbalanceOrg, 2),\n",
    "    'nameDest': nameDest,\n",
    "    'oldbalanceDest': np.round(oldbalanceDest, 2),\n",
    "    'newbalanceDest': np.round(newbalanceDest, 2),\n",
    "    'isFraud': isFraud,\n",
    "    'isFlaggedFraud': isFlaggedFraud\n",
    "})\n",
    "\n",
    "# CSV speichern\n",
    "df.to_csv(\"Synthetic_Transactions.csv\", index=False)\n",
    "\n",
    "print(\"Synthetic dataset saved as 'Synthetic_Transactions.csv'\")\n"
   ]
  },
  {
   "cell_type": "code",
   "execution_count": 39,
   "id": "343e689b-d7c4-40d1-8288-c152fc4a98d8",
   "metadata": {},
   "outputs": [
    {
     "name": "stdout",
     "output_type": "stream",
     "text": [
      "0\n",
      "1000\n"
     ]
    }
   ],
   "source": [
    "# Load the CSV file again\n",
    "df = pd.read_csv(\"Synthetic_Transactions.csv\")\n",
    "value_count = 0.0\n",
    "\n",
    "# Durch jede Zeile von FindFraudStructures iterieren\n",
    "for i in range(len(FindFraudStructures)):\n",
    "\n",
    "    value = FindFraudStructures[\"nameDest\"].iloc[i]\n",
    "\n",
    "    if value in df[\"nameDest\"].values:\n",
    "    \n",
    "        print(value)\n",
    "    \n",
    "    if value in df[\"nameDest\"].values:\n",
    "    \n",
    "        value_count = value_count + 1\n",
    "\n",
    "print(int(value_count))\n",
    "print(len(df[\"nameDest\"]))"
   ]
  },
  {
   "cell_type": "code",
   "execution_count": 40,
   "id": "92ef0de8-260c-42e6-b170-3496b4a83c32",
   "metadata": {},
   "outputs": [
    {
     "name": "stdout",
     "output_type": "stream",
     "text": [
      "Confusion Matrix:\n",
      " [[218  67]\n",
      " [ 10   5]]\n",
      "\n",
      "Classification Report:\n",
      "               precision    recall  f1-score   support\n",
      "\n",
      "           0       0.96      0.76      0.85       285\n",
      "           1       0.07      0.33      0.11        15\n",
      "\n",
      "    accuracy                           0.74       300\n",
      "   macro avg       0.51      0.55      0.48       300\n",
      "weighted avg       0.91      0.74      0.81       300\n",
      "\n",
      "Vorhersage (0 = kein Fraud, 1 = Fraud): 1\n"
     ]
    }
   ],
   "source": [
    "import pandas as pd\n",
    "\n",
    "from sklearn.model_selection import train_test_split\n",
    "from sklearn.preprocessing import LabelEncoder, StandardScaler\n",
    "from sklearn.svm import SVC\n",
    "from sklearn.metrics import classification_report, confusion_matrix\n",
    "\n",
    "# Beispiel: CSV laden\n",
    "df = pd.read_csv(\"Synthetic_Transactions.csv\")\n",
    "\n",
    "# Kategorische Variablen encoden\n",
    "label_encoders = {}\n",
    "\n",
    "for col in [\"type\", \"nameOrig\", \"nameDest\"]:\n",
    "\n",
    "    le = LabelEncoder()\n",
    "    df[col] = le.fit_transform(df[col])\n",
    "    label_encoders[col] = le\n",
    "\n",
    "# Features und Ziel definieren\n",
    "input_data = df.drop([\"isFraud\", \"isFlaggedFraud\"], axis=1)\n",
    "output_data = df[\"isFraud\"]\n",
    "\n",
    "# Daten normalisieren (SVM mag skalierte Daten)\n",
    "scaler = StandardScaler()\n",
    "input_data_scaled = scaler.fit_transform(input_data)\n",
    "\n",
    "# Train/Test Split\n",
    "input_data_train, input_data_test, output_data_train, output_data_test = train_test_split(\n",
    "    input_data_scaled, output_data, test_size=0.3, random_state=42, stratify=output_data\n",
    ")\n",
    "\n",
    "# SVM Modell\n",
    "svm = SVC(kernel=\"rbf\", class_weight=\"balanced\")  # \"balanced\" falls Fraud selten ist\n",
    "svm.fit(input_data_train, output_data_train)\n",
    "\n",
    "# Vorhersage\n",
    "output_data_pred = svm.predict(input_data_test)\n",
    "\n",
    "# Ergebnisse\n",
    "print(\"Confusion Matrix:\\n\", confusion_matrix(output_data_test, output_data_pred))\n",
    "print(\"\\nClassification Report:\\n\", classification_report(output_data_test, output_data_pred))\n",
    "\n",
    "# Spezifische Vorhersage\n",
    "# Eingabedaten (als DataFrame mit den gleichen Spalten wie X)\n",
    "\n",
    "new_transaction = pd.DataFrame([{\n",
    "    \"step\": 118,\n",
    "    \"type\": \"PAYMENT\",\n",
    "    \"amount\": 180.00,\n",
    "    \"nameOrig\": \"C613567293\",\n",
    "    \"oldbalanceOrg\": 595905.09,\n",
    "    \"newbalanceOrig\": 595905.09,\n",
    "    \"nameDest\": \"C967937996\",\n",
    "    \"oldbalanceDest\": 105402.96,\n",
    "    \"newbalanceDest\": 115228.23\n",
    "}])\n",
    "\n",
    "# Gleiche LabelEncoder verwenden wie beim Training\n",
    "for col, le in label_encoders.items():\n",
    "    new_transaction[col] = le.transform(new_transaction[col])\n",
    "\n",
    "# Skalieren wie beim Training\n",
    "new_transaction_scaled = scaler.transform(new_transaction)\n",
    "\n",
    "# Vorhersage\n",
    "output_data_pred = svm.predict(new_transaction_scaled)\n",
    "\n",
    "print(\"Vorhersage (0 = kein Fraud, 1 = Fraud):\", output_data_pred[0])"
   ]
  },
  {
   "cell_type": "code",
   "execution_count": null,
   "id": "bdb390b5-a4bc-4bee-87cb-bc5659726dba",
   "metadata": {},
   "outputs": [],
   "source": []
  }
 ],
 "metadata": {
  "kernelspec": {
   "display_name": "Python 3 (ipykernel)",
   "language": "python",
   "name": "python3"
  },
  "language_info": {
   "codemirror_mode": {
    "name": "ipython",
    "version": 3
   },
   "file_extension": ".py",
   "mimetype": "text/x-python",
   "name": "python",
   "nbconvert_exporter": "python",
   "pygments_lexer": "ipython3",
   "version": "3.13.7"
  }
 },
 "nbformat": 4,
 "nbformat_minor": 5
}
